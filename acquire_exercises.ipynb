{
 "cells": [
  {
   "cell_type": "code",
   "execution_count": 4,
   "id": "81f65359",
   "metadata": {},
   "outputs": [],
   "source": [
    "import numpy as np\n",
    "import pandas as pd\n",
    "import matplotlib.pyplot as plt\n",
    "import seaborn as sns\n",
    "import requests\n",
    "import math\n",
    "import os\n",
    "import acquire\n",
    "\n",
    "pd.options.display.max_columns = None\n",
    "pd.options.display.max_rows = None"
   ]
  },
  {
   "cell_type": "code",
   "execution_count": 5,
   "id": "8bdf27eb",
   "metadata": {},
   "outputs": [],
   "source": [
    "people = acquire.get_people_data()"
   ]
  },
  {
   "cell_type": "code",
   "execution_count": 6,
   "id": "e720fbd8",
   "metadata": {},
   "outputs": [],
   "source": [
    "planets = acquire.get_planet_data()"
   ]
  },
  {
   "cell_type": "code",
   "execution_count": 7,
   "id": "746f1059",
   "metadata": {},
   "outputs": [],
   "source": [
    "starships = acquire.get_starships_data()"
   ]
  },
  {
   "cell_type": "code",
   "execution_count": 8,
   "id": "517ac151",
   "metadata": {},
   "outputs": [],
   "source": [
    "big_df = acquire.combine_everything(people, planets, starships)"
   ]
  },
  {
   "cell_type": "code",
   "execution_count": 9,
   "id": "a468eb07",
   "metadata": {},
   "outputs": [],
   "source": [
    "germany = acquire.get_germany_data()"
   ]
  },
  {
   "cell_type": "code",
   "execution_count": null,
   "id": "c744cd97",
   "metadata": {},
   "outputs": [],
   "source": []
  }
 ],
 "metadata": {
  "kernelspec": {
   "display_name": "Python 3 (ipykernel)",
   "language": "python",
   "name": "python3"
  },
  "language_info": {
   "codemirror_mode": {
    "name": "ipython",
    "version": 3
   },
   "file_extension": ".py",
   "mimetype": "text/x-python",
   "name": "python",
   "nbconvert_exporter": "python",
   "pygments_lexer": "ipython3",
   "version": "3.9.13"
  }
 },
 "nbformat": 4,
 "nbformat_minor": 5
}
