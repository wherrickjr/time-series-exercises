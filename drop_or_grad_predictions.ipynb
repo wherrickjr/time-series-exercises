{
 "cells": [
  {
   "cell_type": "code",
   "execution_count": 1,
   "id": "cdd694ed",
   "metadata": {},
   "outputs": [],
   "source": [
    "import pandas as pd\n",
    "import seaborn as sns"
   ]
  },
  {
   "cell_type": "code",
   "execution_count": 2,
   "id": "f3561e64",
   "metadata": {},
   "outputs": [
    {
     "ename": "FileNotFoundError",
     "evalue": "[Errno 2] No such file or directory: 'drop_or_grad.csv'",
     "output_type": "error",
     "traceback": [
      "\u001b[0;31m---------------------------------------------------------------------------\u001b[0m",
      "\u001b[0;31mFileNotFoundError\u001b[0m                         Traceback (most recent call last)",
      "\u001b[0;32m/var/folders/9m/3m9g9yzs77j2m_79z47fjdr00000gq/T/ipykernel_49388/313772535.py\u001b[0m in \u001b[0;36m<module>\u001b[0;34m\u001b[0m\n\u001b[0;32m----> 1\u001b[0;31m \u001b[0mdrop\u001b[0m \u001b[0;34m=\u001b[0m \u001b[0mpd\u001b[0m\u001b[0;34m.\u001b[0m\u001b[0mread_csv\u001b[0m\u001b[0;34m(\u001b[0m\u001b[0;34m'drop_or_grad.csv'\u001b[0m\u001b[0;34m)\u001b[0m\u001b[0;34m\u001b[0m\u001b[0;34m\u001b[0m\u001b[0m\n\u001b[0m\u001b[1;32m      2\u001b[0m \u001b[0mdrop\u001b[0m\u001b[0;34m\u001b[0m\u001b[0;34m\u001b[0m\u001b[0m\n",
      "\u001b[0;32m/usr/local/anaconda3/lib/python3.9/site-packages/pandas/util/_decorators.py\u001b[0m in \u001b[0;36mwrapper\u001b[0;34m(*args, **kwargs)\u001b[0m\n\u001b[1;32m    309\u001b[0m                     \u001b[0mstacklevel\u001b[0m\u001b[0;34m=\u001b[0m\u001b[0mstacklevel\u001b[0m\u001b[0;34m,\u001b[0m\u001b[0;34m\u001b[0m\u001b[0;34m\u001b[0m\u001b[0m\n\u001b[1;32m    310\u001b[0m                 )\n\u001b[0;32m--> 311\u001b[0;31m             \u001b[0;32mreturn\u001b[0m \u001b[0mfunc\u001b[0m\u001b[0;34m(\u001b[0m\u001b[0;34m*\u001b[0m\u001b[0margs\u001b[0m\u001b[0;34m,\u001b[0m \u001b[0;34m**\u001b[0m\u001b[0mkwargs\u001b[0m\u001b[0;34m)\u001b[0m\u001b[0;34m\u001b[0m\u001b[0;34m\u001b[0m\u001b[0m\n\u001b[0m\u001b[1;32m    312\u001b[0m \u001b[0;34m\u001b[0m\u001b[0m\n\u001b[1;32m    313\u001b[0m         \u001b[0;32mreturn\u001b[0m \u001b[0mwrapper\u001b[0m\u001b[0;34m\u001b[0m\u001b[0;34m\u001b[0m\u001b[0m\n",
      "\u001b[0;32m/usr/local/anaconda3/lib/python3.9/site-packages/pandas/io/parsers/readers.py\u001b[0m in \u001b[0;36mread_csv\u001b[0;34m(filepath_or_buffer, sep, delimiter, header, names, index_col, usecols, squeeze, prefix, mangle_dupe_cols, dtype, engine, converters, true_values, false_values, skipinitialspace, skiprows, skipfooter, nrows, na_values, keep_default_na, na_filter, verbose, skip_blank_lines, parse_dates, infer_datetime_format, keep_date_col, date_parser, dayfirst, cache_dates, iterator, chunksize, compression, thousands, decimal, lineterminator, quotechar, quoting, doublequote, escapechar, comment, encoding, encoding_errors, dialect, error_bad_lines, warn_bad_lines, on_bad_lines, delim_whitespace, low_memory, memory_map, float_precision, storage_options)\u001b[0m\n\u001b[1;32m    676\u001b[0m     \u001b[0mkwds\u001b[0m\u001b[0;34m.\u001b[0m\u001b[0mupdate\u001b[0m\u001b[0;34m(\u001b[0m\u001b[0mkwds_defaults\u001b[0m\u001b[0;34m)\u001b[0m\u001b[0;34m\u001b[0m\u001b[0;34m\u001b[0m\u001b[0m\n\u001b[1;32m    677\u001b[0m \u001b[0;34m\u001b[0m\u001b[0m\n\u001b[0;32m--> 678\u001b[0;31m     \u001b[0;32mreturn\u001b[0m \u001b[0m_read\u001b[0m\u001b[0;34m(\u001b[0m\u001b[0mfilepath_or_buffer\u001b[0m\u001b[0;34m,\u001b[0m \u001b[0mkwds\u001b[0m\u001b[0;34m)\u001b[0m\u001b[0;34m\u001b[0m\u001b[0;34m\u001b[0m\u001b[0m\n\u001b[0m\u001b[1;32m    679\u001b[0m \u001b[0;34m\u001b[0m\u001b[0m\n\u001b[1;32m    680\u001b[0m \u001b[0;34m\u001b[0m\u001b[0m\n",
      "\u001b[0;32m/usr/local/anaconda3/lib/python3.9/site-packages/pandas/io/parsers/readers.py\u001b[0m in \u001b[0;36m_read\u001b[0;34m(filepath_or_buffer, kwds)\u001b[0m\n\u001b[1;32m    573\u001b[0m \u001b[0;34m\u001b[0m\u001b[0m\n\u001b[1;32m    574\u001b[0m     \u001b[0;31m# Create the parser.\u001b[0m\u001b[0;34m\u001b[0m\u001b[0;34m\u001b[0m\u001b[0m\n\u001b[0;32m--> 575\u001b[0;31m     \u001b[0mparser\u001b[0m \u001b[0;34m=\u001b[0m \u001b[0mTextFileReader\u001b[0m\u001b[0;34m(\u001b[0m\u001b[0mfilepath_or_buffer\u001b[0m\u001b[0;34m,\u001b[0m \u001b[0;34m**\u001b[0m\u001b[0mkwds\u001b[0m\u001b[0;34m)\u001b[0m\u001b[0;34m\u001b[0m\u001b[0;34m\u001b[0m\u001b[0m\n\u001b[0m\u001b[1;32m    576\u001b[0m \u001b[0;34m\u001b[0m\u001b[0m\n\u001b[1;32m    577\u001b[0m     \u001b[0;32mif\u001b[0m \u001b[0mchunksize\u001b[0m \u001b[0;32mor\u001b[0m \u001b[0miterator\u001b[0m\u001b[0;34m:\u001b[0m\u001b[0;34m\u001b[0m\u001b[0;34m\u001b[0m\u001b[0m\n",
      "\u001b[0;32m/usr/local/anaconda3/lib/python3.9/site-packages/pandas/io/parsers/readers.py\u001b[0m in \u001b[0;36m__init__\u001b[0;34m(self, f, engine, **kwds)\u001b[0m\n\u001b[1;32m    930\u001b[0m \u001b[0;34m\u001b[0m\u001b[0m\n\u001b[1;32m    931\u001b[0m         \u001b[0mself\u001b[0m\u001b[0;34m.\u001b[0m\u001b[0mhandles\u001b[0m\u001b[0;34m:\u001b[0m \u001b[0mIOHandles\u001b[0m \u001b[0;34m|\u001b[0m \u001b[0;32mNone\u001b[0m \u001b[0;34m=\u001b[0m \u001b[0;32mNone\u001b[0m\u001b[0;34m\u001b[0m\u001b[0;34m\u001b[0m\u001b[0m\n\u001b[0;32m--> 932\u001b[0;31m         \u001b[0mself\u001b[0m\u001b[0;34m.\u001b[0m\u001b[0m_engine\u001b[0m \u001b[0;34m=\u001b[0m \u001b[0mself\u001b[0m\u001b[0;34m.\u001b[0m\u001b[0m_make_engine\u001b[0m\u001b[0;34m(\u001b[0m\u001b[0mf\u001b[0m\u001b[0;34m,\u001b[0m \u001b[0mself\u001b[0m\u001b[0;34m.\u001b[0m\u001b[0mengine\u001b[0m\u001b[0;34m)\u001b[0m\u001b[0;34m\u001b[0m\u001b[0;34m\u001b[0m\u001b[0m\n\u001b[0m\u001b[1;32m    933\u001b[0m \u001b[0;34m\u001b[0m\u001b[0m\n\u001b[1;32m    934\u001b[0m     \u001b[0;32mdef\u001b[0m \u001b[0mclose\u001b[0m\u001b[0;34m(\u001b[0m\u001b[0mself\u001b[0m\u001b[0;34m)\u001b[0m\u001b[0;34m:\u001b[0m\u001b[0;34m\u001b[0m\u001b[0;34m\u001b[0m\u001b[0m\n",
      "\u001b[0;32m/usr/local/anaconda3/lib/python3.9/site-packages/pandas/io/parsers/readers.py\u001b[0m in \u001b[0;36m_make_engine\u001b[0;34m(self, f, engine)\u001b[0m\n\u001b[1;32m   1214\u001b[0m             \u001b[0;31m# \"Union[str, PathLike[str], ReadCsvBuffer[bytes], ReadCsvBuffer[str]]\"\u001b[0m\u001b[0;34m\u001b[0m\u001b[0;34m\u001b[0m\u001b[0m\n\u001b[1;32m   1215\u001b[0m             \u001b[0;31m# , \"str\", \"bool\", \"Any\", \"Any\", \"Any\", \"Any\", \"Any\"\u001b[0m\u001b[0;34m\u001b[0m\u001b[0;34m\u001b[0m\u001b[0m\n\u001b[0;32m-> 1216\u001b[0;31m             self.handles = get_handle(  # type: ignore[call-overload]\n\u001b[0m\u001b[1;32m   1217\u001b[0m                 \u001b[0mf\u001b[0m\u001b[0;34m,\u001b[0m\u001b[0;34m\u001b[0m\u001b[0;34m\u001b[0m\u001b[0m\n\u001b[1;32m   1218\u001b[0m                 \u001b[0mmode\u001b[0m\u001b[0;34m,\u001b[0m\u001b[0;34m\u001b[0m\u001b[0;34m\u001b[0m\u001b[0m\n",
      "\u001b[0;32m/usr/local/anaconda3/lib/python3.9/site-packages/pandas/io/common.py\u001b[0m in \u001b[0;36mget_handle\u001b[0;34m(path_or_buf, mode, encoding, compression, memory_map, is_text, errors, storage_options)\u001b[0m\n\u001b[1;32m    784\u001b[0m         \u001b[0;32mif\u001b[0m \u001b[0mioargs\u001b[0m\u001b[0;34m.\u001b[0m\u001b[0mencoding\u001b[0m \u001b[0;32mand\u001b[0m \u001b[0;34m\"b\"\u001b[0m \u001b[0;32mnot\u001b[0m \u001b[0;32min\u001b[0m \u001b[0mioargs\u001b[0m\u001b[0;34m.\u001b[0m\u001b[0mmode\u001b[0m\u001b[0;34m:\u001b[0m\u001b[0;34m\u001b[0m\u001b[0;34m\u001b[0m\u001b[0m\n\u001b[1;32m    785\u001b[0m             \u001b[0;31m# Encoding\u001b[0m\u001b[0;34m\u001b[0m\u001b[0;34m\u001b[0m\u001b[0m\n\u001b[0;32m--> 786\u001b[0;31m             handle = open(\n\u001b[0m\u001b[1;32m    787\u001b[0m                 \u001b[0mhandle\u001b[0m\u001b[0;34m,\u001b[0m\u001b[0;34m\u001b[0m\u001b[0;34m\u001b[0m\u001b[0m\n\u001b[1;32m    788\u001b[0m                 \u001b[0mioargs\u001b[0m\u001b[0;34m.\u001b[0m\u001b[0mmode\u001b[0m\u001b[0;34m,\u001b[0m\u001b[0;34m\u001b[0m\u001b[0;34m\u001b[0m\u001b[0m\n",
      "\u001b[0;31mFileNotFoundError\u001b[0m: [Errno 2] No such file or directory: 'drop_or_grad.csv'"
     ]
    }
   ],
   "source": [
    "drop = pd.read_csv('drop_or_grad.csv')\n",
    "drop"
   ]
  },
  {
   "cell_type": "code",
   "execution_count": null,
   "id": "b82b5719",
   "metadata": {},
   "outputs": [],
   "source": [
    "drop.isnull().sum() #checking for null values"
   ]
  },
  {
   "cell_type": "code",
   "execution_count": null,
   "id": "2802df9d",
   "metadata": {},
   "outputs": [],
   "source": [
    "drop.info()"
   ]
  },
  {
   "cell_type": "code",
   "execution_count": null,
   "id": "b96a4466",
   "metadata": {},
   "outputs": [],
   "source": [
    "\n",
    "drop['Marital status'] = drop['Marital status'].replace(2, 'married')\n",
    "drop['Marital status'] = drop['Marital status'].replace(3, 'widower')\n",
    "drop['Marital status'] = drop['Marital status'].replace(4, 'divorced')\n",
    "drop['Marital status'] = drop['Marital status'].replace(5, 'facto union')\n",
    "drop['Marital status'] = drop['Marital status'].replace(6, 'legally separated')\n",
    "\n",
    "#changing numeric values in df and changing them to their equivelent strings"
   ]
  },
  {
   "cell_type": "code",
   "execution_count": null,
   "id": "66fdaba5",
   "metadata": {},
   "outputs": [],
   "source": [
    "drop.head()"
   ]
  },
  {
   "cell_type": "code",
   "execution_count": null,
   "id": "d246f4e8",
   "metadata": {},
   "outputs": [],
   "source": [
    "drop['Nacionality'] = drop['Nacionality'].replace(1, 'european')\n",
    "drop['Nacionality'] = drop['Nacionality'].replace(2, 'european')\n",
    "drop['Nacionality'] = drop['Nacionality'].replace(3, 'european')\n",
    "drop['Nacionality'] = drop['Nacionality'].replace(4, 'european')\n",
    "drop['Nacionality'] = drop['Nacionality'].replace(5, 'european')\n",
    "drop['Nacionality'] = drop['Nacionality'].replace(6, 'european')\n",
    "drop['Nacionality'] = drop['Nacionality'].replace(7, 'european')\n",
    "drop['Nacionality'] = drop['Nacionality'].replace(8, 'african')\n",
    "drop['Nacionality'] = drop['Nacionality'].replace(9, 'african')\n",
    "drop['Nacionality'] = drop['Nacionality'].replace(10, 'african')\n",
    "drop['Nacionality'] = drop['Nacionality'].replace(11, 'african')\n",
    "drop['Nacionality'] = drop['Nacionality'].replace(12, 'african')\n",
    "drop['Nacionality'] = drop['Nacionality'].replace(13, 'middle-eastern')\n",
    "drop['Nacionality'] = drop['Nacionality'].replace(14, 'latino')\n",
    "drop['Nacionality'] = drop['Nacionality'].replace(15, 'european')\n",
    "drop['Nacionality'] = drop['Nacionality'].replace(16, 'european')\n",
    "drop['Nacionality'] = drop['Nacionality'].replace(17, 'latino')\n",
    "drop['Nacionality'] = drop['Nacionality'].replace(18, 'asian')\n",
    "drop['Nacionality'] = drop['Nacionality'].replace(19, 'asian')\n",
    "drop['Nacionality'] = drop['Nacionality'].replace(20, 'latino')\n",
    "drop['Nacionality'] = drop['Nacionality'].replace(21, 'latino')\n",
    "# changing numeric values for nacionality to string that represents number\n"
   ]
  },
  {
   "cell_type": "code",
   "execution_count": null,
   "id": "1b6b3940",
   "metadata": {},
   "outputs": [],
   "source": [
    "drop['Previous qualification'] = drop['Previous qualification'].replace(1, 'high school only')\n",
    "drop['Previous qualification'] = drop['Previous qualification'].replace(2, 'bachelor\\'s degree')\n",
    "drop['Previous qualification'] = drop['Previous qualification'].replace(3, 'bachelor\\'s degree')\n",
    "drop['Previous qualification'] = drop['Previous qualification'].replace(4, 'post grad degree')\n",
    "drop['Previous qualification'] = drop['Previous qualification'].replace(5, 'post grad degree')\n",
    "drop['Previous qualification'] = drop['Previous qualification'].replace(6, 'some college')\n",
    "drop['Previous qualification'] = drop['Previous qualification'].replace(7, 'no high school')\n",
    "drop['Previous qualification'] = drop['Previous qualification'].replace(8, 'no high school')\n",
    "drop['Previous qualification'] = drop['Previous qualification'].replace(9, 'no high school')\n",
    "drop['Previous qualification'] = drop['Previous qualification'].replace(10, 'no high school')\n",
    "drop['Previous qualification'] = drop['Previous qualification'].replace(11, 'no high school')\n",
    "drop['Previous qualification'] = drop['Previous qualification'].replace(12, 'no high school')\n",
    "drop['Previous qualification'] = drop['Previous qualification'].replace(13, 'no high school')\n",
    "drop['Previous qualification'] = drop['Previous qualification'].replace(14, 'some college')\n",
    "drop['Previous qualification'] = drop['Previous qualification'].replace(15, 'bachelor\\'s degree')\n",
    "drop['Previous qualification'] = drop['Previous qualification'].replace(16, 'some college')\n",
    "drop['Previous qualification'] = drop['Previous qualification'].replace(17, 'post grad degree')\n",
    "# changing numeric values for nacionality to string that represents number\n"
   ]
  },
  {
   "cell_type": "code",
   "execution_count": null,
   "id": "90d648c9",
   "metadata": {},
   "outputs": [],
   "source": [
    "drop.head()"
   ]
  },
  {
   "cell_type": "code",
   "execution_count": null,
   "id": "f0fcb9ba",
   "metadata": {},
   "outputs": [],
   "source": [
    "drop['Mother\\'s qualification'] = drop['Mother\\'s qualification'].replace(1,'high school only')\n",
    "drop['Mother\\'s qualification'] = drop['Mother\\'s qualification'].replace(2,'bachelor\\'s degree')\n",
    "drop['Mother\\'s qualification'] = drop['Mother\\'s qualification'].replace(3,'bachelor\\'s degree')\n",
    "drop['Mother\\'s qualification'] = drop['Mother\\'s qualification'].replace(4,'post grad degree')\n",
    "drop['Mother\\'s qualification'] = drop['Mother\\'s qualification'].replace(5,'post grad degree')\n",
    "drop['Mother\\'s qualification'] = drop['Mother\\'s qualification'].replace(6,'some college')\n",
    "drop['Mother\\'s qualification'] = drop['Mother\\'s qualification'].replace(7,'no high school')\n",
    "drop['Mother\\'s qualification'] = drop['Mother\\'s qualification'].replace(8,'no high school')\n",
    "drop['Mother\\'s qualification'] = drop['Mother\\'s qualification'].replace(9,'no high school')\n",
    "drop['Mother\\'s qualification'] = drop['Mother\\'s qualification'].replace(10,'no high school')\n",
    "drop['Mother\\'s qualification'] = drop['Mother\\'s qualification'].replace(11,'no high school ')\n",
    "drop['Mother\\'s qualification'] = drop['Mother\\'s qualification'].replace(12,'no high school')\n",
    "drop['Mother\\'s qualification'] = drop['Mother\\'s qualification'].replace(13,'no high school')\n",
    "drop['Mother\\'s qualification'] = drop['Mother\\'s qualification'].replace(14,'high school only')\n",
    "drop['Mother\\'s qualification'] = drop['Mother\\'s qualification'].replace(15,'high school only')\n",
    "drop['Mother\\'s qualification'] = drop['Mother\\'s qualification'].replace(16,'some college')\n",
    "drop['Mother\\'s qualification'] = drop['Mother\\'s qualification'].replace(17,'no high school')\n",
    "drop['Mother\\'s qualification'] = drop['Mother\\'s qualification'].replace(18,'no high school')\n",
    "drop['Mother\\'s qualification'] = drop['Mother\\'s qualification'].replace(19,'no high school')\n",
    "drop['Mother\\'s qualification'] = drop['Mother\\'s qualification'].replace(20,'no high school')\n",
    "drop['Mother\\'s qualification'] = drop['Mother\\'s qualification'].replace(21,'no high school')\n",
    "drop['Mother\\'s qualification'] = drop['Mother\\'s qualification'].replace(22,'no high school')\n",
    "drop['Mother\\'s qualification'] = drop['Mother\\'s qualification'].replace(23,'no high school')\n",
    "drop['Mother\\'s qualification'] = drop['Mother\\'s qualification'].replace(24,'unknown')\n",
    "drop['Mother\\'s qualification'] = drop['Mother\\'s qualification'].replace(25,'illiterate')\n",
    "drop['Mother\\'s qualification'] = drop['Mother\\'s qualification'].replace(26,'no high school')\n",
    "drop['Mother\\'s qualification'] = drop['Mother\\'s qualification'].replace(27,'no high school')\n",
    "drop['Mother\\'s qualification'] = drop['Mother\\'s qualification'].replace(28,'no high school')\n",
    "drop['Mother\\'s qualification'] = drop['Mother\\'s qualification'].replace(29,'some college')\n",
    "drop['Mother\\'s qualification'] = drop['Mother\\'s qualification'].replace(30,'some college')\n",
    "drop['Mother\\'s qualification'] = drop['Mother\\'s qualification'].replace(31,'some college')\n",
    "drop['Mother\\'s qualification'] = drop['Mother\\'s qualification'].replace(32,'some college')\n",
    "drop['Mother\\'s qualification'] = drop['Mother\\'s qualification'].replace(33,'post grad degree')\n",
    "drop['Mother\\'s qualification'] = drop['Mother\\'s qualification'].replace(34,'post grad degree')\n",
    "# changing numeric values for nacionality to string that represents number\n"
   ]
  },
  {
   "cell_type": "code",
   "execution_count": null,
   "id": "ff0e501c",
   "metadata": {},
   "outputs": [],
   "source": [
    "drop.head()"
   ]
  },
  {
   "cell_type": "code",
   "execution_count": null,
   "id": "03f7c680",
   "metadata": {},
   "outputs": [],
   "source": [
    "drop['Father\\'s qualification'] = drop['Father\\'s qualification'].replace(1,'high school only')\n",
    "drop['Father\\'s qualification'] = drop['Father\\'s qualification'].replace(2,'bachelor\\'s degree')\n",
    "drop['Father\\'s qualification'] = drop['Father\\'s qualification'].replace(3,'bachelor\\'s degree')\n",
    "drop['Father\\'s qualification'] = drop['Father\\'s qualification'].replace(4,'post grad degree')\n",
    "drop['Father\\'s qualification'] = drop['Father\\'s qualification'].replace(5,'post grad degree')\n",
    "drop['Father\\'s qualification'] = drop['Father\\'s qualification'].replace(6,'some college')\n",
    "drop['Father\\'s qualification'] = drop['Father\\'s qualification'].replace(7,'no high school')\n",
    "drop['Father\\'s qualification'] = drop['Father\\'s qualification'].replace(8,'no high school')\n",
    "drop['Father\\'s qualification'] = drop['Father\\'s qualification'].replace(9,'no high school')\n",
    "drop['Father\\'s qualification'] = drop['Father\\'s qualification'].replace(10,'no high school')\n",
    "drop['Father\\'s qualification'] = drop['Father\\'s qualification'].replace(11,'no high school ')\n",
    "drop['Father\\'s qualification'] = drop['Father\\'s qualification'].replace(12,'no high school')\n",
    "drop['Father\\'s qualification'] = drop['Father\\'s qualification'].replace(13,'no high school')\n",
    "drop['Father\\'s qualification'] = drop['Father\\'s qualification'].replace(14,'high school only')\n",
    "drop['Father\\'s qualification'] = drop['Father\\'s qualification'].replace(15,'high school only')\n",
    "drop['Father\\'s qualification'] = drop['Father\\'s qualification'].replace(16,'some college')\n",
    "drop['Father\\'s qualification'] = drop['Father\\'s qualification'].replace(17,'no high school')\n",
    "drop['Father\\'s qualification'] = drop['Father\\'s qualification'].replace(18,'no high school')\n",
    "drop['Father\\'s qualification'] = drop['Father\\'s qualification'].replace(19,'no high school')\n",
    "drop['Father\\'s qualification'] = drop['Father\\'s qualification'].replace(20,'no high school')\n",
    "drop['Father\\'s qualification'] = drop['Father\\'s qualification'].replace(21,'no high school')\n",
    "drop['Father\\'s qualification'] = drop['Father\\'s qualification'].replace(22,'no high school')\n",
    "drop['Father\\'s qualification'] = drop['Father\\'s qualification'].replace(23,'no high school')\n",
    "drop['Father\\'s qualification'] = drop['Father\\'s qualification'].replace(24,'unknown')\n",
    "drop['Father\\'s qualification'] = drop['Father\\'s qualification'].replace(25,'illiterate')\n",
    "drop['Father\\'s qualification'] = drop['Father\\'s qualification'].replace(26,'no high school')\n",
    "drop['Father\\'s qualification'] = drop['Father\\'s qualification'].replace(27,'no high school')\n",
    "drop['Father\\'s qualification'] = drop['Father\\'s qualification'].replace(28,'no high school')\n",
    "drop['Father\\'s qualification'] = drop['Father\\'s qualification'].replace(29,'some college')\n",
    "drop['Father\\'s qualification'] = drop['Father\\'s qualification'].replace(30,'some college')\n",
    "drop['Father\\'s qualification'] = drop['Father\\'s qualification'].replace(31,'some college')\n",
    "drop['Father\\'s qualification'] = drop['Father\\'s qualification'].replace(32,'some college')\n",
    "drop['Father\\'s qualification'] = drop['Father\\'s qualification'].replace(33,'post grad degree')\n",
    "drop['Father\\'s qualification'] = drop['Father\\'s qualification'].replace(34,'post grad degree')\n",
    "# changing numeric values for nacionality to string that represents number\n"
   ]
  },
  {
   "cell_type": "code",
   "execution_count": null,
   "id": "dda2f895",
   "metadata": {},
   "outputs": [],
   "source": [
    "drop.head()"
   ]
  },
  {
   "cell_type": "code",
   "execution_count": null,
   "id": "33a78165",
   "metadata": {},
   "outputs": [],
   "source": [
    "drop['Mother\\'s occupation'] = drop['Mother\\'s occupation'].replace(1,'education')\n",
    "drop['Mother\\'s occupation'] = drop['Mother\\'s occupation'].replace(2,'law')\n",
    "drop['Mother\\'s occupation'] = drop['Mother\\'s occupation'].replace(3,'STEM')\n",
    "drop['Mother\\'s occupation'] = drop['Mother\\'s occupation'].replace(4,'STEM')\n",
    "drop['Mother\\'s occupation'] = drop['Mother\\'s occupation'].replace(5,'service')\n",
    "drop['Mother\\'s occupation'] = drop['Mother\\'s occupation'].replace(6,'service')\n",
    "drop['Mother\\'s occupation'] = drop['Mother\\'s occupation'].replace(7,'trade')\n",
    "drop['Mother\\'s occupation'] = drop['Mother\\'s occupation'].replace(8,'trade')\n",
    "drop['Mother\\'s occupation'] = drop['Mother\\'s occupation'].replace(9, 'trade')\n",
    "drop['Mother\\'s occupation'] = drop['Mother\\'s occupation'].replace(10,'trade')\n",
    "drop['Mother\\'s occupation'] = drop['Mother\\'s occupation'].replace(11,'military')\n",
    "drop['Mother\\'s occupation'] = drop['Mother\\'s occupation'].replace(12,'none')\n",
    "drop['Mother\\'s occupation'] = drop['Mother\\'s occupation'].replace(13,'military')\n",
    "drop['Mother\\'s occupation'] = drop['Mother\\'s occupation'].replace(14,'military')\n",
    "drop['Mother\\'s occupation'] = drop['Mother\\'s occupation'].replace(15,'military')\n",
    "drop['Mother\\'s occupation'] = drop['Mother\\'s occupation'].replace(16,'military')\n",
    "drop['Mother\\'s occupation'] = drop['Mother\\'s occupation'].replace(17,'service')\n",
    "drop['Mother\\'s occupation'] = drop['Mother\\'s occupation'].replace(18,'service')\n",
    "drop['Mother\\'s occupation'] = drop['Mother\\'s occupation'].replace(19,'STEM')\n",
    "drop['Mother\\'s occupation'] = drop['Mother\\'s occupation'].replace(20,'health')\n",
    "drop['Mother\\'s occupation'] = drop['Mother\\'s occupation'].replace(21,'education')\n",
    "drop['Mother\\'s occupation'] = drop['Mother\\'s occupation'].replace(22,'STEM')\n",
    "drop['Mother\\'s occupation'] = drop['Mother\\'s occupation'].replace(23,'STEM')\n",
    "drop['Mother\\'s occupation'] = drop['Mother\\'s occupation'].replace(24,'unknown')\n",
    "drop['Mother\\'s occupation'] = drop['Mother\\'s occupation'].replace(25,'health')\n",
    "drop['Mother\\'s occupation'] = drop['Mother\\'s occupation'].replace(26,'STEM')\n",
    "drop['Mother\\'s occupation'] = drop['Mother\\'s occupation'].replace(27,'service')\n",
    "drop['Mother\\'s occupation'] = drop['Mother\\'s occupation'].replace(28,'STEM')\n",
    "drop['Mother\\'s occupation'] = drop['Mother\\'s occupation'].replace(29,'service')\n",
    "drop['Mother\\'s occupation'] = drop['Mother\\'s occupation'].replace(30,'service')\n",
    "drop['Mother\\'s occupation'] = drop['Mother\\'s occupation'].replace(31,'service')\n",
    "drop['Mother\\'s occupation'] = drop['Mother\\'s occupation'].replace(32,'service')\n",
    "drop['Mother\\'s occupation'] = drop['Mother\\'s occupation'].replace(33,'law')\n",
    "drop['Mother\\'s occupation'] = drop['Mother\\'s occupation'].replace(34,'trade')\n",
    "drop['Mother\\'s occupation'] = drop['Mother\\'s occupation'].replace(35,'trade')\n",
    "drop['Mother\\'s occupation'] = drop['Mother\\'s occupation'].replace(36,'trade')\n",
    "drop['Mother\\'s occupation'] = drop['Mother\\'s occupation'].replace(37,'trade')\n",
    "drop['Mother\\'s occupation'] = drop['Mother\\'s occupation'].replace(38,'trade')\n",
    "drop['Mother\\'s occupation'] = drop['Mother\\'s occupation'].replace(39,'trade')\n",
    "drop['Mother\\'s occupation'] = drop['Mother\\'s occupation'].replace(40,'trade')\n",
    "drop['Mother\\'s occupation'] = drop['Mother\\'s occupation'].replace(41,'trade')\n",
    "drop['Mother\\'s occupation'] = drop['Mother\\'s occupation'].replace(42,'trade')\n",
    "drop['Mother\\'s occupation'] = drop['Mother\\'s occupation'].replace(43,'trade')\n",
    "drop['Mother\\'s occupation'] = drop['Mother\\'s occupation'].replace(44,'trade')\n",
    "drop['Mother\\'s occupation'] = drop['Mother\\'s occupation'].replace(45,'service')\n",
    "drop['Mother\\'s occupation'] = drop['Mother\\'s occupation'].replace(46,'service')\n",
    "# changing numeric values for nacionality to string that represents number\n"
   ]
  },
  {
   "cell_type": "code",
   "execution_count": null,
   "id": "c823ae6f",
   "metadata": {},
   "outputs": [],
   "source": [
    "drop.info()"
   ]
  },
  {
   "cell_type": "code",
   "execution_count": null,
   "id": "b09b5f63",
   "metadata": {},
   "outputs": [],
   "source": [
    "drop['Father\\'s occupation'] = drop['Father\\'s occupation'].replace(1,'education')\n",
    "drop['Father\\'s occupation'] = drop['Father\\'s occupation'].replace(2,'law')\n",
    "drop['Father\\'s occupation'] = drop['Father\\'s occupation'].replace(3,'STEM')\n",
    "drop['Father\\'s occupation'] = drop['Father\\'s occupation'].replace(4,'STEM')\n",
    "drop['Father\\'s occupation'] = drop['Father\\'s occupation'].replace(5,'service')\n",
    "drop['Father\\'s occupation'] = drop['Father\\'s occupation'].replace(6,'service')\n",
    "drop['Father\\'s occupation'] = drop['Father\\'s occupation'].replace(7,'trade')\n",
    "drop['Father\\'s occupation'] = drop['Father\\'s occupation'].replace(8,'trade')\n",
    "drop['Father\\'s occupation'] = drop['Father\\'s occupation'].replace(9,'trade')\n",
    "drop['Father\\'s occupation'] = drop['Father\\'s occupation'].replace(10,'trade')\n",
    "drop['Father\\'s occupation'] = drop['Father\\'s occupation'].replace(11,'military')\n",
    "drop['Father\\'s occupation'] = drop['Father\\'s occupation'].replace(12,'none')\n",
    "drop['Father\\'s occupation'] = drop['Father\\'s occupation'].replace(13,'military')\n",
    "drop['Father\\'s occupation'] = drop['Father\\'s occupation'].replace(14,'military')\n",
    "drop['Father\\'s occupation'] = drop['Father\\'s occupation'].replace(15,'military')\n",
    "drop['Father\\'s occupation'] = drop['Father\\'s occupation'].replace(16,'military')\n",
    "drop['Father\\'s occupation'] = drop['Father\\'s occupation'].replace(17,'service')\n",
    "drop['Father\\'s occupation'] = drop['Father\\'s occupation'].replace(18,'service')\n",
    "drop['Father\\'s occupation'] = drop['Father\\'s occupation'].replace(19,'STEM')\n",
    "drop['Father\\'s occupation'] = drop['Father\\'s occupation'].replace(20,'health')\n",
    "drop['Father\\'s occupation'] = drop['Father\\'s occupation'].replace(21,'education')\n",
    "drop['Father\\'s occupation'] = drop['Father\\'s occupation'].replace(22,'STEM')\n",
    "drop['Father\\'s occupation'] = drop['Father\\'s occupation'].replace(23,'STEM')\n",
    "drop['Father\\'s occupation'] = drop['Father\\'s occupation'].replace(24,'unknown')\n",
    "drop['Father\\'s occupation'] = drop['Father\\'s occupation'].replace(26,'STEM')\n",
    "drop['Father\\'s occupation'] = drop['Father\\'s occupation'].replace(27,'service')\n",
    "drop['Father\\'s occupation'] = drop['Father\\'s occupation'].replace(28,'STEM')\n",
    "drop['Father\\'s occupation'] = drop['Father\\'s occupation'].replace(29,'service')\n",
    "drop['Father\\'s occupation'] = drop['Father\\'s occupation'].replace(30,'service')\n",
    "drop['Father\\'s occupation'] = drop['Father\\'s occupation'].replace(31,'service')\n",
    "drop['Father\\'s occupation'] = drop['Father\\'s occupation'].replace(32,'service')\n",
    "drop['Father\\'s occupation'] = drop['Father\\'s occupation'].replace(33,'law')\n",
    "drop['Father\\'s occupation'] = drop['Father\\'s occupation'].replace(34,'trade')\n",
    "drop['Father\\'s occupation'] = drop['Father\\'s occupation'].replace(35,'trade')\n",
    "drop['Father\\'s occupation'] = drop['Father\\'s occupation'].replace(36,'trade')\n",
    "drop['Father\\'s occupation'] = drop['Father\\'s occupation'].replace(37,'trade')\n",
    "drop['Father\\'s occupation'] = drop['Father\\'s occupation'].replace(38,'trade')\n",
    "drop['Father\\'s occupation'] = drop['Father\\'s occupation'].replace(39,'trade')\n",
    "drop['Father\\'s occupation'] = drop['Father\\'s occupation'].replace(40,'trade')\n",
    "drop['Father\\'s occupation'] = drop['Father\\'s occupation'].replace(41,'trade')\n",
    "drop['Father\\'s occupation'] = drop['Father\\'s occupation'].replace(42,'trade')\n",
    "drop['Father\\'s occupation'] = drop['Father\\'s occupation'].replace(43,'trade')\n",
    "drop['Father\\'s occupation'] = drop['Father\\'s occupation'].replace(44,'trade')\n",
    "drop['Father\\'s occupation'] = drop['Father\\'s occupation'].replace(45,'service')\n",
    "drop['Father\\'s occupation'] = drop['Father\\'s occupation'].replace(46,'service')\n",
    "# changing numeric values for nacionality to string that represents number\n"
   ]
  },
  {
   "cell_type": "code",
   "execution_count": null,
   "id": "184759c5",
   "metadata": {},
   "outputs": [],
   "source": [
    "drop.head()"
   ]
  },
  {
   "cell_type": "code",
   "execution_count": null,
   "id": "57f94176",
   "metadata": {},
   "outputs": [],
   "source": [
    "drop = drop.drop(drop.columns[[19, 20, 21, 22, 23, 24, 25, 26, 27, 28, 29 ,30]], axis = 1)"
   ]
  },
  {
   "cell_type": "code",
   "execution_count": null,
   "id": "4c63b373",
   "metadata": {},
   "outputs": [],
   "source": [
    "drop.info()"
   ]
  },
  {
   "cell_type": "code",
   "execution_count": null,
   "id": "25992175",
   "metadata": {},
   "outputs": [],
   "source": [
    "drop['Course'] = drop['Course'].replace(1, 'agriculture')\n",
    "drop['Course'] = drop['Course'].replace(2, 'Animation')\n",
    "drop['Course'] = drop['Course'].replace(3, 'social service')\n",
    "drop['Course'] = drop['Course'].replace(4, 'agriculture')\n",
    "drop['Course'] = drop['Course'].replace(5, 'communication')\n",
    "drop['Course'] = drop['Course'].replace(6, 'nursing')\n",
    "drop['Course'] = drop['Course'].replace(7, 'engineering')\n",
    "drop['Course'] = drop['Course'].replace(8, 'agriculture')\n",
    "drop['Course'] = drop['Course'].replace(9, 'management')\n",
    "drop['Course'] = drop['Course'].replace(10, 'social service')\n",
    "drop['Course'] = drop['Course'].replace(11, 'tourism')\n",
    "drop['Course'] = drop['Course'].replace(12, 'nursing')\n",
    "drop['Course'] = drop['Course'].replace(13, 'oral hygiene')\n",
    "drop['Course'] = drop['Course'].replace(14, 'marketing')\n",
    "drop['Course'] = drop['Course'].replace(15, 'communication')\n",
    "drop['Course'] = drop['Course'].replace(16, 'education')\n",
    "drop['Course'] = drop['Course'].replace(17, 'management')\n"
   ]
  },
  {
   "cell_type": "code",
   "execution_count": null,
   "id": "819ff2e2",
   "metadata": {},
   "outputs": [],
   "source": [
    "drop = drop.drop(drop.columns[[1,2,11,13,18,19,20,21]], axis = 1)"
   ]
  },
  {
   "cell_type": "code",
   "execution_count": null,
   "id": "9ec66913",
   "metadata": {},
   "outputs": [],
   "source": [
    "drop.head()"
   ]
  },
  {
   "cell_type": "markdown",
   "id": "67b9fa74",
   "metadata": {},
   "source": [
    "exploratory questions:\n",
    "* does marital status effect graduation?\n",
    "* does age at enrollment affect graduation?\n",
    "* does holding a scholarship affect graduation?\n",
    "* does day/evening attendence affect gradtuation?\n",
    "* does nationality affect graduation?\n",
    "* does mother/father's education level affect graduation?\n",
    "* does mother/father's occupation affect graduation?"
   ]
  },
  {
   "cell_type": "raw",
   "id": "6804f837",
   "metadata": {},
   "source": []
  },
  {
   "cell_type": "code",
   "execution_count": null,
   "id": "684651d6",
   "metadata": {},
   "outputs": [],
   "source": [
    "sns.countplot(data=drop, x=\"Marital status\", hue=\"Target\")"
   ]
  },
  {
   "cell_type": "code",
   "execution_count": null,
   "id": "b5b61a5c",
   "metadata": {},
   "outputs": [],
   "source": [
    "x,y = 'Marital status', 'Target'\n",
    "\n",
    "df1 = drop.groupby(x)[y].value_counts(normalize=True)\n",
    "df1 = df1.mul(100)\n",
    "df1 = df1.rename('percent').reset_index()\n",
    "\n",
    "g = sns.catplot(x=x,y='percent',hue=y,kind='bar',data=df1)\n",
    "g.ax.set_ylim(0,100)\n",
    "\n",
    "for p in g.ax.patches:\n",
    "    txt = str(p.get_height().round(2)) + '%'\n",
    "    txt_x = p.get_x() \n",
    "    txt_y = p.get_height()"
   ]
  },
  {
   "cell_type": "code",
   "execution_count": null,
   "id": "d1dfca32",
   "metadata": {},
   "outputs": [],
   "source": []
  }
 ],
 "metadata": {
  "kernelspec": {
   "display_name": "Python 3 (ipykernel)",
   "language": "python",
   "name": "python3"
  },
  "language_info": {
   "codemirror_mode": {
    "name": "ipython",
    "version": 3
   },
   "file_extension": ".py",
   "mimetype": "text/x-python",
   "name": "python",
   "nbconvert_exporter": "python",
   "pygments_lexer": "ipython3",
   "version": "3.9.13"
  }
 },
 "nbformat": 4,
 "nbformat_minor": 5
}
